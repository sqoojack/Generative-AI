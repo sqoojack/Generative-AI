{
 "cells": [
  {
   "cell_type": "code",
   "execution_count": null,
   "metadata": {},
   "outputs": [],
   "source": [
    "import json\n",
    "path = \"\" # path to the json file\n",
    "preds = [] # list of abstracts\n",
    "\n",
    "with open(path, 'r', encoding='utf-8') as file:\n",
    "    for line in file.readlines():\n",
    "        data = json.loads(line, strict=False)\n",
    "        preds.append(data[\"abstract\"])"
   ]
  }
 ],
 "metadata": {
  "language_info": {
   "name": "python"
  }
 },
 "nbformat": 4,
 "nbformat_minor": 2
}
